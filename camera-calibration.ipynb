{
 "cells": [
  {
   "cell_type": "markdown",
   "metadata": {},
   "source": [
    "# Camera calibration using OpenCV"
   ]
  },
  {
   "cell_type": "code",
   "execution_count": null,
   "metadata": {
    "collapsed": true
   },
   "outputs": [],
   "source": [
    "# Configuration\n",
    "calibration_dir = \"camera_cal\"\n",
    "pattern_size = (9, 6)\n",
    "example_idx = 0\n",
    "show_interactively = False"
   ]
  },
  {
   "cell_type": "code",
   "execution_count": null,
   "metadata": {},
   "outputs": [],
   "source": [
    "# load images\n",
    "import os\n",
    "import matplotlib.image as mplimg\n",
    "import matplotlib.pyplot as plt\n",
    "\n",
    "calibration_images = []\n",
    "for image in os.listdir(calibration_dir):\n",
    "    img = mplimg.imread(os.path.join(calibration_dir, image))\n",
    "    calibration_images.append(img)\n",
    "print(\"Loaded {} images.\".format(len(calibration_images)))\n",
    "%matplotlib inline\n",
    "plt.imshow(calibration_images[example_idx])"
   ]
  },
  {
   "cell_type": "code",
   "execution_count": null,
   "metadata": {},
   "outputs": [],
   "source": [
    "# convert to grayscale\n",
    "import cv2\n",
    "gray_images = []\n",
    "for img in calibration_images:\n",
    "    gray = cv2.cvtColor(img, cv2.COLOR_RGB2GRAY)\n",
    "    gray_images.append(gray)\n",
    "plt.imshow(gray_images[example_idx], cmap='gray')"
   ]
  },
  {
   "cell_type": "code",
   "execution_count": null,
   "metadata": {
    "collapsed": true
   },
   "outputs": [],
   "source": [
    "# Setup calibration data\n",
    "import numpy as np\n",
    "pattern_points = np.zeros((pattern_size[0]*pattern_size[1],3), np.float32)\n",
    "pattern_points[:,:2] =np.mgrid[0:pattern_size[0], 0:pattern_size[1]].T.reshape(-1,2)\n"
   ]
  },
  {
   "cell_type": "code",
   "execution_count": null,
   "metadata": {},
   "outputs": [],
   "source": [
    "# find corners\n",
    "corners = []\n",
    "object_points = []\n",
    "found_indices = []\n",
    "for idx, img in enumerate(gray_images):\n",
    "    found, current_corners = cv2.findChessboardCorners(img, pattern_size, None)\n",
    "    if found:\n",
    "        corners.append(current_corners)\n",
    "        object_points.append(pattern_points)\n",
    "        found_indices.append(idx)\n",
    "        \n",
    "print(\"Found corners in {} of the {} images.\".format(len(corners), len(gray_images)))\n",
    "assert len(corners) == len(object_points)"
   ]
  },
  {
   "cell_type": "code",
   "execution_count": null,
   "metadata": {
    "collapsed": true
   },
   "outputs": [],
   "source": [
    "# show the corners interactively\n",
    "if show_interactively:\n",
    "    %matplotlib qt\n",
    "    plt.ion()\n",
    "    for corner_idx, img_idx in enumerate(found_indices):\n",
    "        corner_img = cv2.drawChessboardCorners(calibration_images[img_idx], pattern_size, corners[corner_idx], True)\n",
    "        plt.imshow(corner_img)\n",
    "        plt.title(\"Corners {} on image {}\".format(corner_idx, img_idx))\n",
    "        plt.draw()\n",
    "        plt.waitforbuttonpress(timeout=10)\n",
    "        plt.cla()\n",
    "    plt.close()"
   ]
  },
  {
   "cell_type": "code",
   "execution_count": null,
   "metadata": {},
   "outputs": [],
   "source": [
    "# Calibrate the camera!\n",
    "print(\"Calibrating with {} sets of object points and {} sets of corners.\".format(len(object_points), len(corners)))\n",
    "img_shape = gray_images[0].shape[::-1]\n",
    "print(\"image shape:\", img_shape)\n",
    "#object_points.pop(7)\n",
    "#object_points.pop(8)\n",
    "#corners.pop(7)\n",
    "#corners.pop(8)\n",
    "ret, mtx, dist, rvecs, tvecs = cv2.calibrateCamera(object_points, corners, gray_images[0].shape[::-1], None, None)\n",
    "print(mtx)"
   ]
  },
  {
   "cell_type": "code",
   "execution_count": null,
   "metadata": {},
   "outputs": [],
   "source": [
    "# Undistort example image\n",
    "%matplotlib inline\n",
    "undistorted_image = cv2.undistort(gray_images[example_idx], mtx, dist, None, mtx)\n",
    "plt.imshow(undistorted_image, cmap='gray')"
   ]
  },
  {
   "cell_type": "code",
   "execution_count": null,
   "metadata": {
    "collapsed": true
   },
   "outputs": [],
   "source": [
    "if show_interactively:\n",
    "    %matplotlib qt\n",
    "    for image in gray_images:\n",
    "        undistorted_image = cv2.undistort(image, mtx, dist, None, mtx)\n",
    "        f, (ax1, ax2) = plt.subplots(1, 2, figsize=(24, 9))\n",
    "        f.tight_layout()\n",
    "        ax1.imshow(image, cmap='gray')\n",
    "        ax1.set_title('Original Image')\n",
    "        ax2.imshow(undistorted_image, cmap='gray')\n",
    "        ax2.set_title('Undistorted Image')\n",
    "        plt.subplots_adjust(left=0., right=1, top=0.9, bottom=0.)\n",
    "                \n",
    "        plt.draw()\n",
    "        plt.waitforbuttonpress(timeout=10)\n",
    "    plt.close()"
   ]
  },
  {
   "cell_type": "code",
   "execution_count": null,
   "metadata": {
    "collapsed": true
   },
   "outputs": [],
   "source": [
    "import pickle\n",
    "\n",
    "with open('camera_calibration.p', 'wb') as f:\n",
    "    pickle.dump((mtx, dist), f)"
   ]
  },
  {
   "cell_type": "code",
   "execution_count": null,
   "metadata": {
    "collapsed": true
   },
   "outputs": [],
   "source": []
  }
 ],
 "metadata": {
  "kernelspec": {
   "display_name": "Python 3",
   "language": "python",
   "name": "python3"
  },
  "language_info": {
   "codemirror_mode": {
    "name": "ipython",
    "version": 3
   },
   "file_extension": ".py",
   "mimetype": "text/x-python",
   "name": "python",
   "nbconvert_exporter": "python",
   "pygments_lexer": "ipython3",
   "version": "3.5.2"
  }
 },
 "nbformat": 4,
 "nbformat_minor": 2
}
